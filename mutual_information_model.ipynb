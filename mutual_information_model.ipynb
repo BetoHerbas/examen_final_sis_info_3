{
 "cells": [
  {
   "cell_type": "code",
   "execution_count": 1,
   "metadata": {},
   "outputs": [],
   "source": [
    "import pandas as pd\n",
    "import numpy as np\n",
    "from sklearn.feature_selection import mutual_info_classif, SelectPercentile\n",
    "from sklearn.tree import DecisionTreeClassifier\n",
    "from sklearn.model_selection import train_test_split, cross_val_score\n",
    "from sklearn.metrics import accuracy_score, confusion_matrix, precision_score, recall_score, f1_score\n",
    "from sklearn.ensemble import RandomForestClassifier"
   ]
  },
  {
   "cell_type": "code",
   "execution_count": 8,
   "metadata": {},
   "outputs": [
    {
     "name": "stdout",
     "output_type": "stream",
     "text": [
      "PERFORMANCE METRICS\n",
      "Accuracy: 0.96 | Precision: 0.95 | Recall: 0.95 | F1: 0.95 \n",
      "Confusion matrix: \n",
      " [[105   3]\n",
      " [  3  60]]\n",
      "CV SCORES\n",
      "[0.9375     0.9375     0.9375     0.94936709 0.93670886]\n",
      "Accuracy cv:  0.94, Std:  0.00\n"
     ]
    }
   ],
   "source": [
    "def show_performance_metrics(y_test, y_test_predicted):\n",
    "    print('PERFORMANCE METRICS')\n",
    "    print(f\"Accuracy: {accuracy_score(y_test, y_test_predicted):.2f} | \"\n",
    "          f\"Precision: {precision_score(y_test, y_test_predicted):.2f} | \"\n",
    "          f\"Recall: {recall_score(y_test, y_test_predicted):.2f} | \"\n",
    "          f\"F1: {f1_score(y_test, y_test_predicted):.2f} \")\n",
    "    print('Confusion matrix: \\n {0}'.format(confusion_matrix(y_test, y_test_predicted)))\n",
    "    \n",
    "\n",
    "def show_cv_scores(tree, X_train, y_train, cv = 5):\n",
    "    cv_scores = cross_val_score(tree, X_train, np.ravel(y_train), cv = cv)\n",
    "    print(\"CV SCORES\")\n",
    "    print(cv_scores)\n",
    "    print( \"Accuracy cv: {0: 0.2f}, Std: {1: 0.2f}\".format(np.mean(cv_scores), np.std(cv_scores)) )  \n",
    "\n",
    "\n",
    "def add_columns_names(X_new, X):\n",
    "    selected_features_names = [\n",
    "        X.columns[j]\n",
    "        for i in range(len(X_new.columns))\n",
    "        for j in range(len(X.columns))\n",
    "        if X_new.iloc[:, i].equals(X.iloc[:, j])\n",
    "    ]\n",
    "    \n",
    "    X_new.columns = selected_features_names\n",
    "    return X_new\n",
    "\n",
    "\n",
    "def get_X_with_select_features_by_mutual_information(X, y, percentile = 30):\n",
    "    select_features = SelectPercentile(mutual_info_classif, percentile = percentile)\n",
    "\n",
    "    X_new = select_features.fit_transform(X, y)\n",
    "    X_new = pd.DataFrame(X_new)\n",
    "    return add_columns_names(X_new, X)\n",
    "\n",
    "\n",
    "def train_model(X, y, model):\n",
    "    X_train, X_test, y_train, y_test = train_test_split(X, y, test_size = 0.3, random_state = 42)\n",
    "    model.fit(X_train, y_train)\n",
    "\n",
    "    y_test_predicted = model.predict(X_test)\n",
    "\n",
    "    show_performance_metrics(y_test, y_test_predicted)\n",
    "    show_cv_scores(model, X_train, y_train, 5)\n",
    "\n",
    "\n",
    "def train_model_from_file(file_name):\n",
    "    breast_cancer_df = pd.read_csv(file_name)\n",
    "\n",
    "    X = breast_cancer_df.drop(columns = ['diagnosis'])\n",
    "    y = breast_cancer_df['diagnosis']\n",
    "    X_selected_by_mutual_information = get_X_with_select_features_by_mutual_information(X, y, 30)\n",
    "\n",
    "    best_model = RandomForestClassifier(class_weight='balanced', random_state = 42, n_estimators = 100, max_depth = None, min_samples_split = 2)\n",
    "\n",
    "    train_model(X_selected_by_mutual_information, y, best_model)\n",
    "\n",
    "train_model_from_file(\"breast_cancer.csv\")"
   ]
  }
 ],
 "metadata": {
  "kernelspec": {
   "display_name": "sis225",
   "language": "python",
   "name": "python3"
  },
  "language_info": {
   "codemirror_mode": {
    "name": "ipython",
    "version": 3
   },
   "file_extension": ".py",
   "mimetype": "text/x-python",
   "name": "python",
   "nbconvert_exporter": "python",
   "pygments_lexer": "ipython3",
   "version": "3.11.9"
  }
 },
 "nbformat": 4,
 "nbformat_minor": 2
}
