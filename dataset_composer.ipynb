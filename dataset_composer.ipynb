{
 "cells": [
  {
   "cell_type": "code",
   "execution_count": 3,
   "metadata": {},
   "outputs": [],
   "source": [
    "import pandas as pd\n",
    "import requests\n",
    "from pathlib import Path\n",
    "import numpy as np\n",
    "import matplotlib.pyplot as plt\n",
    "import seaborn as sns"
   ]
  },
  {
   "cell_type": "code",
   "execution_count": 12,
   "metadata": {},
   "outputs": [],
   "source": [
    "def fetch_data(url):\n",
    "    response = requests.get(url)\n",
    "    return response.json()\n",
    "\n",
    "\n",
    "def create_dataframe(data):\n",
    "    return pd.DataFrame(data['data'])\n",
    "\n",
    "\n",
    "def encode_diagnosis(df):\n",
    "    df['diagnosis'] = df['diagnosis'].map({'M': 1, 'B': 0})\n",
    "    return df\n",
    "\n",
    "\n",
    "def convert_to_numeric(df):\n",
    "    df = df.apply(pd.to_numeric, errors='coerce')\n",
    "    df['diagnosis'] = df['diagnosis'].astype(int)\n",
    "    return df\n",
    "\n",
    "\n",
    "def merge_data(df_cells, df_diagnosis):\n",
    "    return pd.merge(df_cells, df_diagnosis, on='id')\n",
    "\n",
    "\n",
    "def clean_data(df):\n",
    "    df.drop(columns=['id'], inplace=True)\n",
    "    df.drop_duplicates(inplace=True)\n",
    "    df.dropna(inplace=True)\n",
    "    return df\n",
    "\n",
    "\n",
    "def format_data(df):\n",
    "    df = encode_diagnosis(df)\n",
    "    df = convert_to_numeric(df)\n",
    "    return df\n",
    "\n",
    "\n",
    "def save_breast_cancer_data_in_csv(df):\n",
    "    df.to_csv('breast_cancer.csv', index=False)\n",
    "\n",
    "\n",
    "def extract_data_in_csv(url_cells, url_diagnosis):\n",
    "    data_brest_cancer_cells = fetch_data(url_cells)\n",
    "    data_diagnosis = fetch_data(url_diagnosis)\n",
    "\n",
    "    df_brest_cancer_cells = create_dataframe(data_brest_cancer_cells)\n",
    "    df_diagnosis = create_dataframe(data_diagnosis)\n",
    "\n",
    "    df_breast_cancer_merged = merge_data(df_brest_cancer_cells, df_diagnosis)\n",
    "    df_breast_cancer_cleaned = clean_data(df_breast_cancer_merged)\n",
    "    df_breast_cancer_formated = format_data(df_breast_cancer_cleaned)\n",
    "    save_breast_cancer_data_in_csv(df_breast_cancer_formated)\n",
    "\n",
    "\n",
    "url_cells = 'http://localhost:8000/breast_cancer_cells.json'\n",
    "url_diagnosis = 'http://localhost:8000/breast_cancer_cells_diagnosis.json'\n",
    "\n",
    "\n",
    "extract_data_in_csv(url_cells, url_diagnosis)"
   ]
  }
 ],
 "metadata": {
  "kernelspec": {
   "display_name": "sis225",
   "language": "python",
   "name": "python3"
  },
  "language_info": {
   "codemirror_mode": {
    "name": "ipython",
    "version": 3
   },
   "file_extension": ".py",
   "mimetype": "text/x-python",
   "name": "python",
   "nbconvert_exporter": "python",
   "pygments_lexer": "ipython3",
   "version": "3.11.9"
  }
 },
 "nbformat": 4,
 "nbformat_minor": 2
}
