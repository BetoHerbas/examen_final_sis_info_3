{
 "cells": [
  {
   "cell_type": "code",
   "execution_count": null,
   "metadata": {},
   "outputs": [],
   "source": [
    "import pandas as pd\n",
    "import requests\n",
    "from pathlib import Path\n",
    "import numpy as np\n",
    "import matplotlib.pyplot as plt\n",
    "import seaborn as sns"
   ]
  },
  {
   "cell_type": "code",
   "execution_count": null,
   "metadata": {},
   "outputs": [
    {
     "name": "stdout",
     "output_type": "stream",
     "text": [
      "area_mean                  float64\n",
      "area_se                    float64\n",
      "area_worst                 float64\n",
      "compactness_mean           float64\n",
      "compactness_se             float64\n",
      "compactness_worst          float64\n",
      "concave points_mean        float64\n",
      "concave points_se          float64\n",
      "concave points_worst       float64\n",
      "concavity_mean             float64\n",
      "concavity_se               float64\n",
      "concavity_worst            float64\n",
      "fractal_dimension_mean     float64\n",
      "fractal_dimension_se       float64\n",
      "fractal_dimension_worst    float64\n",
      "perimeter_mean             float64\n",
      "perimeter_se               float64\n",
      "perimeter_worst            float64\n",
      "radius_mean                float64\n",
      "radius_se                  float64\n",
      "radius_worst               float64\n",
      "smoothness_mean            float64\n",
      "smoothness_se              float64\n",
      "smoothness_worst           float64\n",
      "symmetry_mean              float64\n",
      "symmetry_se                float64\n",
      "symmetry_worst             float64\n",
      "texture_mean               float64\n",
      "texture_se                 float64\n",
      "texture_worst              float64\n",
      "diagnosis                    int64\n",
      "dtype: object\n"
     ]
    }
   ],
   "source": [
    "url_cells = 'http://localhost:8000/breast_cancer_cells.json'\n",
    "url_diagnosis = 'http://localhost:8000/breast_cancer_cells_diagnosis.json'\n",
    "\n",
    "data_cells = requests.get(url_cells).json()\n",
    "data_diagnosis = requests.get(url_diagnosis).json()\n",
    "\n",
    "df_cells = pd.DataFrame(data_cells['data'])\n",
    "df_diagnosis = pd.DataFrame(data_diagnosis['data'])\n",
    "\n",
    "df_combined = pd.merge(df_cells, df_diagnosis, on='id')\n",
    "\n",
    "df_combined.drop(columns=['id'], inplace=True)\n",
    "df_combined.drop_duplicates(inplace=True)\n",
    "df_combined.dropna(inplace=True)\n",
    "\n",
    "df_combined['diagnosis'] = df_combined['diagnosis'].map({'M': 1, 'B': 0})\n",
    "df_combined = df_combined.apply(pd.to_numeric, errors='coerce')\n",
    "df_combined['diagnosis'] = df_combined['diagnosis'].astype(int)\n",
    "df_combined.dropna(inplace=True)\n",
    "#print(df_combined.dtypes)\n",
    "\n",
    "df_combined.to_csv('breast_cancer.csv', index=False)\n"
   ]
  }
 ],
 "metadata": {
  "kernelspec": {
   "display_name": "sis225",
   "language": "python",
   "name": "python3"
  },
  "language_info": {
   "codemirror_mode": {
    "name": "ipython",
    "version": 3
   },
   "file_extension": ".py",
   "mimetype": "text/x-python",
   "name": "python",
   "nbconvert_exporter": "python",
   "pygments_lexer": "ipython3",
   "version": "3.13.0"
  }
 },
 "nbformat": 4,
 "nbformat_minor": 2
}
